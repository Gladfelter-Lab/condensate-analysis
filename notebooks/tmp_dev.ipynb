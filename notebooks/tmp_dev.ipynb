{
 "cells": [
  {
   "cell_type": "code",
   "execution_count": 22,
   "metadata": {},
   "outputs": [],
   "source": [
    "import sys\n",
    "sys.path.insert(1, '../src')\n",
    "import condensate_analysis as ca\n",
    "import matplotlib.pyplot as plt"
   ]
  },
  {
   "cell_type": "code",
   "execution_count": null,
   "metadata": {},
   "outputs": [],
   "source": [
    "from condensate_analysis import read"
   ]
  },
  {
   "cell_type": "code",
   "execution_count": 44,
   "metadata": {},
   "outputs": [],
   "source": [
    "# Import: Image file -> numpy array\n",
    "def read_image(file):\n",
    "\"\"\"Read image into numpy ndarray.\n",
    "\n",
    "Should handle nd2, czi, tif, and other common file type.\n",
    "Handling is based on file extention only.\n",
    "Dimension order is set with the convention: Channel, Slice, Row, Col.\n",
    "\"\"\"\n",
    "    if file.endswith(\".czi\"):\n",
    "        img = czifile.imread(file).squeeze() # remove dummy dimensions\n",
    "    elif file.endswith(\".nd2\"):\n",
    "        img = nd2.imread(file)\n",
    "        img = img.swapaxes(0,1) # places channel before slice\n",
    "    else:\n",
    "        try:\n",
    "            img = skimage.io.imread(file)\n",
    "            img = img.swapaxes(0,1) # I think this is also necessary here, but not sure. \n",
    "            # Consider checking for larger value between slice and channel for placement.\n",
    "        except OSError:\n",
    "            print(\"Invalid file extention\")\n",
    "    return img\n",
    "\n",
    "# Mask: numpy array -> blob mask\n",
    "    # should accept 2D or 3D\n",
    "    # segmentaion methods: Otzu threshold,\n",
    "    # dilation or constriction option\n",
    "    # watershed option\n",
    "\n",
    "# Featurize: array, mask, feature_list -> features table\n",
    "    # X, Y, Area, MaxIntensity, SumIntensity, Circulatiry\n"
   ]
  },
  {
   "cell_type": "code",
   "execution_count": 7,
   "metadata": {},
   "outputs": [
    {
     "name": "stdout",
     "output_type": "stream",
     "text": [
      "(2, 21, 2048, 2048)\n",
      "(2, 15, 512, 512)\n"
     ]
    }
   ],
   "source": [
    "img = ca.read.read_image(\"../testdata/test.nd2\")\n",
    "print(img.shape)\n",
    "img = ca.read.read_image(\"../testdata/test.czi\")\n",
    "print(img.shape)"
   ]
  },
  {
   "cell_type": "code",
   "execution_count": 51,
   "metadata": {},
   "outputs": [],
   "source": [
    "from scipy import ndimage as ndi\n",
    "from skimage.feature import peak_local_max\n",
    "\n",
    "def mask_image(img, threshold_method=\"otzu\", watershed=False):\n",
    "    if threshold_method == \"otzu\":\n",
    "        thresh = threshold_otsu(img)\n",
    "    binary = img > thresh\n",
    "    no_edge_binary = clear_border(binary)\n",
    "    label_image = label(no_edge_binary)\n",
    "    if watershed == True:\n",
    "        distance = ndi.distance_transform_edt(binary)\n",
    "        distance = ndi.gaussian_filter(distance,5)\n",
    "        coords = peak_local_max(distance, footprint=np.ones((25, 25)), labels=binary)\n",
    "        mask = np.zeros(distance.shape, dtype=bool)\n",
    "        mask[tuple(coords.T)] = True\n",
    "        markers, _ = ndi.label(mask)\n",
    "        labels = watershed(-distance, markers, mask=binary)\n",
    "        mask = label_image\n",
    "    elif watershed == False:\n",
    "        mask = label_image\n",
    "    else: \n",
    "        TypeError\n",
    "        print(\"watershed accepts True or False values only\")\n",
    "    return mask"
   ]
  },
  {
   "cell_type": "code",
   "execution_count": 53,
   "metadata": {},
   "outputs": [
    {
     "ename": "TypeError",
     "evalue": "'bool' object is not callable",
     "output_type": "error",
     "traceback": [
      "\u001b[0;31m---------------------------------------------------------------------------\u001b[0m",
      "\u001b[0;31mTypeError\u001b[0m                                 Traceback (most recent call last)",
      "Cell \u001b[0;32mIn[53], line 1\u001b[0m\n\u001b[0;32m----> 1\u001b[0m mask \u001b[38;5;241m=\u001b[39m \u001b[43mmask_image\u001b[49m\u001b[43m(\u001b[49m\u001b[43mimg\u001b[49m\u001b[43m[\u001b[49m\u001b[38;5;241;43m0\u001b[39;49m\u001b[43m,\u001b[49m\u001b[38;5;241;43m0\u001b[39;49m\u001b[43m]\u001b[49m\u001b[43m)\u001b[49m\n\u001b[1;32m      2\u001b[0m plt\u001b[38;5;241m.\u001b[39mimshow(mask[\u001b[38;5;241m7\u001b[39m,:,:])\n",
      "Cell \u001b[0;32mIn[51], line 17\u001b[0m, in \u001b[0;36mmask_image\u001b[0;34m(img, threshold_method, watershed)\u001b[0m\n\u001b[1;32m     15\u001b[0m     mask[\u001b[38;5;28mtuple\u001b[39m(coords\u001b[38;5;241m.\u001b[39mT)] \u001b[38;5;241m=\u001b[39m \u001b[38;5;28;01mTrue\u001b[39;00m\n\u001b[1;32m     16\u001b[0m     markers, _ \u001b[38;5;241m=\u001b[39m ndi\u001b[38;5;241m.\u001b[39mlabel(mask)\n\u001b[0;32m---> 17\u001b[0m     labels \u001b[38;5;241m=\u001b[39m \u001b[43mwatershed\u001b[49m\u001b[43m(\u001b[49m\u001b[38;5;241;43m-\u001b[39;49m\u001b[43mdistance\u001b[49m\u001b[43m,\u001b[49m\u001b[43m \u001b[49m\u001b[43mmarkers\u001b[49m\u001b[43m,\u001b[49m\u001b[43m \u001b[49m\u001b[43mmask\u001b[49m\u001b[38;5;241;43m=\u001b[39;49m\u001b[43mbinary\u001b[49m\u001b[43m)\u001b[49m\n\u001b[1;32m     18\u001b[0m     mask \u001b[38;5;241m=\u001b[39m label_image\n\u001b[1;32m     19\u001b[0m \u001b[38;5;28;01melif\u001b[39;00m watershed \u001b[38;5;241m==\u001b[39m \u001b[38;5;28;01mFalse\u001b[39;00m:\n",
      "\u001b[0;31mTypeError\u001b[0m: 'bool' object is not callable"
     ]
    }
   ],
   "source": [
    "mask = mask_image(img[0,0])\n",
    "plt.imshow(mask[7,:,:])"
   ]
  },
  {
   "cell_type": "code",
   "execution_count": 54,
   "metadata": {},
   "outputs": [
    {
     "data": {
      "text/plain": [
       "array([[2, 0, 0, ..., 2, 0, 0],\n",
       "       [0, 1, 0, ..., 0, 1, 0],\n",
       "       [0, 0, 0, ..., 1, 1, 1],\n",
       "       ...,\n",
       "       [1, 0, 1, ..., 1, 1, 0],\n",
       "       [0, 1, 1, ..., 3, 1, 1],\n",
       "       [1, 0, 1, ..., 1, 1, 1]], dtype=uint8)"
      ]
     },
     "execution_count": 54,
     "metadata": {},
     "output_type": "execute_result"
    }
   ],
   "source": [
    "img[0,0]"
   ]
  },
  {
   "cell_type": "code",
   "execution_count": null,
   "metadata": {},
   "outputs": [],
   "source": []
  }
 ],
 "metadata": {
  "kernelspec": {
   "display_name": "Python 3",
   "language": "python",
   "name": "python3"
  },
  "language_info": {
   "codemirror_mode": {
    "name": "ipython",
    "version": 3
   },
   "file_extension": ".py",
   "mimetype": "text/x-python",
   "name": "python",
   "nbconvert_exporter": "python",
   "pygments_lexer": "ipython3",
   "version": "3.10.12"
  }
 },
 "nbformat": 4,
 "nbformat_minor": 2
}

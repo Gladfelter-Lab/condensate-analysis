{
 "cells": [
  {
   "cell_type": "code",
   "execution_count": 6,
   "metadata": {},
   "outputs": [],
   "source": [
    "import sys\n",
    "sys.path.insert(1, '../src')\n",
    "import condensate_analysis as ca"
   ]
  },
  {
   "cell_type": "code",
   "execution_count": null,
   "metadata": {},
   "outputs": [],
   "source": [
    "from condensate_analysis import read"
   ]
  },
  {
   "cell_type": "code",
   "execution_count": 44,
   "metadata": {},
   "outputs": [],
   "source": [
    "# Import: Image file -> numpy array\n",
    "def read_image(file):\n",
    "\"\"\"Read image into numpy ndarray.\n",
    "\n",
    "Should handle nd2, czi, tif, and other common file type.\n",
    "Handling is based on file extention only.\n",
    "Dimension order is set with the convention: Channel, Slice, Row, Col.\n",
    "\"\"\"\n",
    "    if file.endswith(\".czi\"):\n",
    "        img = czifile.imread(file).squeeze() # remove dummy dimensions\n",
    "    elif file.endswith(\".nd2\"):\n",
    "        img = nd2.imread(file)\n",
    "        img = img.swapaxes(0,1) # places channel before slice\n",
    "    else:\n",
    "        try:\n",
    "            img = skimage.io.imread(file)\n",
    "            img = img.swapaxes(0,1) # I think this is also necessary here, but not sure. \n",
    "            # Consider checking for larger value between slice and channel for placement.\n",
    "        except OSError:\n",
    "            print(\"Invalid file extention\")\n",
    "    return img\n",
    "\n",
    "# Mask: numpy array -> blob mask\n",
    "    # should accept 2D or 3D\n",
    "    # segmentaion methods: Otzu threshold,\n",
    "    # dilation or constriction option\n",
    "    # watershed option\n",
    "\n",
    "# Featurize: array, mask, feature_list -> features table\n",
    "    # X, Y, Area, MaxIntensity, SumIntensity, Circulatiry\n"
   ]
  },
  {
   "cell_type": "code",
   "execution_count": 7,
   "metadata": {},
   "outputs": [
    {
     "name": "stdout",
     "output_type": "stream",
     "text": [
      "(2, 21, 2048, 2048)\n",
      "(2, 15, 512, 512)\n"
     ]
    }
   ],
   "source": [
    "img = ca.read.read_image(\"../testdata/test.nd2\")\n",
    "print(img.shape)\n",
    "img = ca.read.read_image(\"../testdata/test.czi\")\n",
    "print(img.shape)"
   ]
  },
  {
   "cell_type": "code",
   "execution_count": null,
   "metadata": {},
   "outputs": [],
   "source": []
  }
 ],
 "metadata": {
  "kernelspec": {
   "display_name": "Python 3",
   "language": "python",
   "name": "python3"
  },
  "language_info": {
   "codemirror_mode": {
    "name": "ipython",
    "version": 3
   },
   "file_extension": ".py",
   "mimetype": "text/x-python",
   "name": "python",
   "nbconvert_exporter": "python",
   "pygments_lexer": "ipython3",
   "version": "3.10.12"
  }
 },
 "nbformat": 4,
 "nbformat_minor": 2
}

{
 "cells": [
  {
   "cell_type": "code",
   "execution_count": 1,
   "metadata": {},
   "outputs": [],
   "source": [
    "import sys\n",
    "sys.path.insert(1, '../src')\n",
    "import condensate_analysis as ca\n",
    "import matplotlib.pyplot as plt\n"
   ]
  },
  {
   "cell_type": "code",
   "execution_count": 61,
   "metadata": {},
   "outputs": [
    {
     "ename": "IndentationError",
     "evalue": "expected an indented block after function definition on line 2 (4137574293.py, line 3)",
     "output_type": "error",
     "traceback": [
      "\u001b[0;36m  Cell \u001b[0;32mIn[61], line 3\u001b[0;36m\u001b[0m\n\u001b[0;31m    \"\"\"Read image into numpy ndarray.\u001b[0m\n\u001b[0m    ^\u001b[0m\n\u001b[0;31mIndentationError\u001b[0m\u001b[0;31m:\u001b[0m expected an indented block after function definition on line 2\n"
     ]
    }
   ],
   "source": [
    "# Import: Image file -> numpy array\n",
    "def read_image(file):\n",
    "\"\"\"Read image into numpy ndarray.\n",
    "\n",
    "Should handle nd2, czi, tif, and other common file type.\n",
    "Handling is based on file extention only.\n",
    "Dimension order is set with the convention: Channel, Slice, Row, Col.\n",
    "\"\"\"\n",
    "    if file.endswith(\".czi\"):\n",
    "        img = czifile.imread(file).squeeze() # remove dummy dimensions\n",
    "    elif file.endswith(\".nd2\"):\n",
    "        img = nd2.imread(file)\n",
    "        img = img.swapaxes(0,1) # places channel before slice\n",
    "    else:\n",
    "        try:\n",
    "            img = skimage.io.imread(file)\n",
    "            img = img.swapaxes(0,1) # I think this is also necessary here, but not sure. \n",
    "            # Consider checking for larger value between slice and channel for placement.\n",
    "        except OSError:\n",
    "            print(\"Invalid file extention\")\n",
    "    return img\n",
    "\n",
    "# Mask: numpy array -> blob mask\n",
    "    # should accept 2D or 3D\n",
    "    # segmentaion methods: Otzu threshold,\n",
    "    # dilation or constriction option\n",
    "    # watershed option\n",
    "\n",
    "# Featurize: array, mask, feature_list -> features table\n",
    "    # X, Y, Area, MaxIntensity, SumIntensity, Circulatiry\n"
   ]
  },
  {
   "cell_type": "code",
   "execution_count": 3,
   "metadata": {},
   "outputs": [
    {
     "name": "stdout",
     "output_type": "stream",
     "text": [
      "(2, 21, 2048, 2048)\n",
      "(2, 15, 512, 512)\n"
     ]
    }
   ],
   "source": [
    "img = ca.read_image(\"../testdata/test.nd2\")\n",
    "print(img.shape)\n",
    "img = ca.read_image(\"../testdata/test.czi\")\n",
    "print(img.shape)"
   ]
  },
  {
   "cell_type": "code",
   "execution_count": 5,
   "metadata": {},
   "outputs": [
    {
     "ename": "NameError",
     "evalue": "name 'is_watershed' is not defined",
     "output_type": "error",
     "traceback": [
      "\u001b[0;31m---------------------------------------------------------------------------\u001b[0m",
      "\u001b[0;31mNameError\u001b[0m                                 Traceback (most recent call last)",
      "Cell \u001b[0;32mIn[5], line 1\u001b[0m\n\u001b[0;32m----> 1\u001b[0m masked \u001b[38;5;241m=\u001b[39m \u001b[43mca\u001b[49m\u001b[38;5;241;43m.\u001b[39;49m\u001b[43mmask_image\u001b[49m\u001b[43m(\u001b[49m\u001b[43mimg\u001b[49m\u001b[43m[\u001b[49m\u001b[38;5;241;43m0\u001b[39;49m\u001b[43m,\u001b[49m\u001b[38;5;241;43m0\u001b[39;49m\u001b[43m]\u001b[49m\u001b[43m,\u001b[49m\u001b[43m \u001b[49m\u001b[43mwatershed\u001b[49m\u001b[38;5;241;43m=\u001b[39;49m\u001b[38;5;28;43;01mFalse\u001b[39;49;00m\u001b[43m)\u001b[49m\n\u001b[1;32m      2\u001b[0m plt\u001b[38;5;241m.\u001b[39mimshow(masked[:,:])\n",
      "File \u001b[0;32m~/Lab/blobs-gone-wild/notebooks/../src/condensate_analysis/mask.py:22\u001b[0m, in \u001b[0;36mmask_image\u001b[0;34m(image, threshold_method, watershed, background_sub)\u001b[0m\n\u001b[1;32m     20\u001b[0m no_edge_binary \u001b[38;5;241m=\u001b[39m segmentation\u001b[38;5;241m.\u001b[39mclear_border(binary)\n\u001b[1;32m     21\u001b[0m mask \u001b[38;5;241m=\u001b[39m label(no_edge_binary)\n\u001b[0;32m---> 22\u001b[0m \u001b[38;5;28;01mif\u001b[39;00m \u001b[43mis_watershed\u001b[49m:\n\u001b[1;32m     23\u001b[0m     mask \u001b[38;5;241m=\u001b[39m apply_watershed(binary)\n\u001b[1;32m     24\u001b[0m \u001b[38;5;28;01mreturn\u001b[39;00m mask\n",
      "\u001b[0;31mNameError\u001b[0m: name 'is_watershed' is not defined"
     ]
    }
   ],
   "source": [
    "masked = ca.mask_image(img[0,0], watershed=False)\n",
    "plt.imshow(masked[:,:])"
   ]
  },
  {
   "cell_type": "code",
   "execution_count": 7,
   "metadata": {},
   "outputs": [
    {
     "data": {
      "text/plain": [
       "1.0"
      ]
     },
     "execution_count": 7,
     "metadata": {},
     "output_type": "execute_result"
    }
   ],
   "source": [
    "np.median(img)"
   ]
  },
  {
   "cell_type": "code",
   "execution_count": null,
   "metadata": {},
   "outputs": [],
   "source": []
  }
 ],
 "metadata": {
  "kernelspec": {
   "display_name": "Python 3",
   "language": "python",
   "name": "python3"
  },
  "language_info": {
   "codemirror_mode": {
    "name": "ipython",
    "version": 3
   },
   "file_extension": ".py",
   "mimetype": "text/x-python",
   "name": "python",
   "nbconvert_exporter": "python",
   "pygments_lexer": "ipython3",
   "version": "3.10.12"
  }
 },
 "nbformat": 4,
 "nbformat_minor": 2
}
